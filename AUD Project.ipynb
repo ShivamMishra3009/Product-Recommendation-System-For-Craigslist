{
 "cells": [
  {
   "cell_type": "code",
   "execution_count": 4,
   "id": "5f84dcf3",
   "metadata": {},
   "outputs": [
    {
     "name": "stdout",
     "output_type": "stream",
     "text": [
      "Requirement already satisfied: selenium in c:\\users\\pc\\anaconda3\\lib\\site-packages (4.12.0)\n",
      "Requirement already satisfied: urllib3[socks]<3,>=1.26 in c:\\users\\pc\\anaconda3\\lib\\site-packages (from selenium) (1.26.16)\n",
      "Requirement already satisfied: trio~=0.17 in c:\\users\\pc\\anaconda3\\lib\\site-packages (from selenium) (0.22.2)\n",
      "Requirement already satisfied: trio-websocket~=0.9 in c:\\users\\pc\\anaconda3\\lib\\site-packages (from selenium) (0.10.4)\n",
      "Requirement already satisfied: certifi>=2021.10.8 in c:\\users\\pc\\anaconda3\\lib\\site-packages (from selenium) (2023.7.22)\n",
      "Requirement already satisfied: attrs>=20.1.0 in c:\\users\\pc\\anaconda3\\lib\\site-packages (from trio~=0.17->selenium) (22.1.0)\n",
      "Requirement already satisfied: sortedcontainers in c:\\users\\pc\\anaconda3\\lib\\site-packages (from trio~=0.17->selenium) (2.4.0)\n",
      "Requirement already satisfied: idna in c:\\users\\pc\\anaconda3\\lib\\site-packages (from trio~=0.17->selenium) (3.4)\n",
      "Requirement already satisfied: outcome in c:\\users\\pc\\anaconda3\\lib\\site-packages (from trio~=0.17->selenium) (1.2.0)\n",
      "Requirement already satisfied: sniffio in c:\\users\\pc\\anaconda3\\lib\\site-packages (from trio~=0.17->selenium) (1.2.0)\n",
      "Requirement already satisfied: cffi>=1.14 in c:\\users\\pc\\anaconda3\\lib\\site-packages (from trio~=0.17->selenium) (1.15.1)\n",
      "Requirement already satisfied: exceptiongroup in c:\\users\\pc\\anaconda3\\lib\\site-packages (from trio-websocket~=0.9->selenium) (1.1.3)\n",
      "Requirement already satisfied: wsproto>=0.14 in c:\\users\\pc\\anaconda3\\lib\\site-packages (from trio-websocket~=0.9->selenium) (1.2.0)\n",
      "Requirement already satisfied: PySocks!=1.5.7,<2.0,>=1.5.6 in c:\\users\\pc\\anaconda3\\lib\\site-packages (from urllib3[socks]<3,>=1.26->selenium) (1.7.1)\n",
      "Requirement already satisfied: pycparser in c:\\users\\pc\\anaconda3\\lib\\site-packages (from cffi>=1.14->trio~=0.17->selenium) (2.21)\n",
      "Requirement already satisfied: h11<1,>=0.9.0 in c:\\users\\pc\\anaconda3\\lib\\site-packages (from wsproto>=0.14->trio-websocket~=0.9->selenium) (0.14.0)\n"
     ]
    }
   ],
   "source": [
    "!pip install selenium"
   ]
  },
  {
   "cell_type": "code",
   "execution_count": 5,
   "id": "c58c23ad",
   "metadata": {},
   "outputs": [
    {
     "name": "stdout",
     "output_type": "stream",
     "text": [
      "Requirement already satisfied: webdriver_manager in c:\\users\\pc\\anaconda3\\lib\\site-packages (4.0.0)\n",
      "Requirement already satisfied: requests in c:\\users\\pc\\anaconda3\\lib\\site-packages (from webdriver_manager) (2.31.0)\n",
      "Requirement already satisfied: python-dotenv in c:\\users\\pc\\anaconda3\\lib\\site-packages (from webdriver_manager) (0.21.0)\n",
      "Requirement already satisfied: packaging in c:\\users\\pc\\anaconda3\\lib\\site-packages (from webdriver_manager) (23.0)\n",
      "Requirement already satisfied: charset-normalizer<4,>=2 in c:\\users\\pc\\anaconda3\\lib\\site-packages (from requests->webdriver_manager) (2.0.4)\n",
      "Requirement already satisfied: idna<4,>=2.5 in c:\\users\\pc\\anaconda3\\lib\\site-packages (from requests->webdriver_manager) (3.4)\n",
      "Requirement already satisfied: urllib3<3,>=1.21.1 in c:\\users\\pc\\anaconda3\\lib\\site-packages (from requests->webdriver_manager) (1.26.16)\n",
      "Requirement already satisfied: certifi>=2017.4.17 in c:\\users\\pc\\anaconda3\\lib\\site-packages (from requests->webdriver_manager) (2023.7.22)\n"
     ]
    }
   ],
   "source": [
    "!pip3 install webdriver_manager"
   ]
  },
  {
   "cell_type": "code",
   "execution_count": 10,
   "id": "d52baeef",
   "metadata": {},
   "outputs": [
    {
     "name": "stderr",
     "output_type": "stream",
     "text": [
      "C:\\Users\\PC\\AppData\\Local\\Temp\\ipykernel_13768\\674032501.py:11: DeprecationWarning: Firefox will soon stop logging to geckodriver.log by default; Specify desired logs with log_output\n",
      "  driver = webdriver.Firefox(service=Service(GeckoDriverManager().install()), options=firefox_options)\n"
     ]
    }
   ],
   "source": [
    "from selenium import webdriver\n",
    "from selenium.webdriver.common.by import By\n",
    "import time\n",
    "import csv\n",
    "\n",
    "# Setup the WebDriver (using Firefox in this example)\n",
    "from selenium.webdriver.firefox.service import Service\n",
    "from webdriver_manager.firefox import GeckoDriverManager\n",
    "from selenium.webdriver.firefox.options import Options\n",
    "firefox_options = Options()\n",
    "driver = webdriver.Firefox(service=Service(GeckoDriverManager().install()), options=firefox_options)\n",
    "\n",
    "# Open the Craigslist furniture listing page\n",
    "url = 'https://tippecanoe.craigslist.org/search/fua'\n",
    "driver.get(url)\n",
    "\n",
    "def get_product_names_and_category():\n",
    "    product_info = []\n",
    "    \n",
    "    # Wait for the page to load\n",
    "    time.sleep(5)  # Adjust this value as needed to ensure the page loads completely\n",
    "    \n",
    "    # Find all product name elements on the current page\n",
    "    product_name_elements = driver.find_elements(By.XPATH, \"//a[contains(@class, 'cl-app-anchor text-only posting-title')]/span[@class='label']\")\n",
    "    \n",
    "    for element in product_name_elements:\n",
    "        product_name = element.text\n",
    "        # Check if the product name contains 'TV'\n",
    "        product_type = 'TV' if 'TV' in product_name.upper() else 'NonTV'\n",
    "        # Append product name, category, and product type\n",
    "        product_info.append([product_name, 'Furniture', product_type])\n",
    "\n",
    "    return product_info\n",
    "\n",
    "# Extract product names, category, and type\n",
    "product_info = get_product_names_and_category()\n",
    "\n",
    "# Optional: Write the product names, category, and type to a CSV file\n",
    "with open('craigslist_Furnitureproducts_with_category_and_type.csv', 'w', newline='', encoding='utf-8') as file:\n",
    "    writer = csv.writer(file)\n",
    "    writer.writerow(['Product Name', 'Category', 'Type'])  # Write header\n",
    "    writer.writerows(product_info)\n",
    "\n",
    "# Close the browser\n",
    "driver.quit()\n"
   ]
  },
  {
   "cell_type": "code",
   "execution_count": 5,
   "id": "c956c61f",
   "metadata": {},
   "outputs": [
    {
     "name": "stderr",
     "output_type": "stream",
     "text": [
      "C:\\Users\\PC\\AppData\\Local\\Temp\\ipykernel_13768\\1318215269.py:11: DeprecationWarning: Firefox will soon stop logging to geckodriver.log by default; Specify desired logs with log_output\n",
      "  driver = webdriver.Firefox(service=Service(GeckoDriverManager().install()), options=firefox_options)\n"
     ]
    }
   ],
   "source": [
    "from selenium import webdriver\n",
    "from selenium.webdriver.common.by import By\n",
    "import time\n",
    "import csv\n",
    "\n",
    "# Setup the WebDriver (using Firefox in this example)\n",
    "from selenium.webdriver.firefox.service import Service\n",
    "from webdriver_manager.firefox import GeckoDriverManager\n",
    "from selenium.webdriver.firefox.options import Options\n",
    "firefox_options = Options()\n",
    "driver = webdriver.Firefox(service=Service(GeckoDriverManager().install()), options=firefox_options)\n",
    "\n",
    "# Open the Craigslist furniture listing page\n",
    "url = 'https://tippecanoe.craigslist.org/search/fua?query=tv'\n",
    "driver.get(url)\n",
    "\n",
    "def get_product_names_and_category():\n",
    "    product_info = []\n",
    "    \n",
    "    # Wait for the page to load\n",
    "    time.sleep(5)  # Adjust this value as needed to ensure the page loads completely\n",
    "    \n",
    "    # Find all product name elements on the current page\n",
    "    product_name_elements = driver.find_elements(By.XPATH, \"//a[contains(@class, 'cl-app-anchor text-only posting-title')]/span[@class='label']\")\n",
    "    \n",
    "    for element in product_name_elements:\n",
    "        product_name = element.text\n",
    "        # Check if the product name contains 'TV'\n",
    "        product_type = 'TV' if 'TV' in product_name.upper() else 'NonTV'\n",
    "        # Append product name, category, and product type\n",
    "        product_info.append([product_name, 'Furniture', product_type])\n",
    "\n",
    "    return product_info\n",
    "\n",
    "# Extract product names, category, and type\n",
    "product_info = get_product_names_and_category()\n",
    "\n",
    "# Optional: Write the product names, category, and type to a CSV file\n",
    "with open('craigslist_Furnituretvproducts_with_category_and_type.csv', 'w', newline='', encoding='utf-8') as file:\n",
    "    writer = csv.writer(file)\n",
    "    writer.writerow(['Product Name', 'Category', 'Type'])  # Write header\n",
    "    writer.writerows(product_info)\n",
    "\n",
    "# Close the browser\n",
    "driver.quit()\n"
   ]
  },
  {
   "cell_type": "code",
   "execution_count": null,
   "id": "7bc878c5",
   "metadata": {},
   "outputs": [],
   "source": []
  },
  {
   "cell_type": "code",
   "execution_count": null,
   "id": "ab1d7138",
   "metadata": {},
   "outputs": [],
   "source": []
  },
  {
   "cell_type": "code",
   "execution_count": 6,
   "id": "b4d9c84e",
   "metadata": {},
   "outputs": [
    {
     "name": "stderr",
     "output_type": "stream",
     "text": [
      "C:\\Users\\PC\\AppData\\Local\\Temp\\ipykernel_13768\\3648938055.py:11: DeprecationWarning: Firefox will soon stop logging to geckodriver.log by default; Specify desired logs with log_output\n",
      "  driver = webdriver.Firefox(service=Service(GeckoDriverManager().install()), options=firefox_options)\n"
     ]
    }
   ],
   "source": [
    "from selenium import webdriver\n",
    "from selenium.webdriver.common.by import By\n",
    "import time\n",
    "import csv\n",
    "\n",
    "# Setup the WebDriver (using Firefox in this example)\n",
    "from selenium.webdriver.firefox.service import Service\n",
    "from webdriver_manager.firefox import GeckoDriverManager\n",
    "from selenium.webdriver.firefox.options import Options\n",
    "firefox_options = Options()\n",
    "driver = webdriver.Firefox(service=Service(GeckoDriverManager().install()), options=firefox_options)\n",
    "\n",
    "# Open the Craigslist furniture listing page\n",
    "url = 'https://tippecanoe.craigslist.org/search/ppa'\n",
    "driver.get(url)\n",
    "\n",
    "def get_product_names_and_category():\n",
    "    product_info = []\n",
    "    \n",
    "    # Wait for the page to load\n",
    "    time.sleep(5)  # Adjust this value as needed to ensure the page loads completely\n",
    "    \n",
    "    # Find all product name elements on the current page\n",
    "    product_name_elements = driver.find_elements(By.XPATH, \"//a[contains(@class, 'cl-app-anchor text-only posting-title')]/span[@class='label']\")\n",
    "    \n",
    "    for element in product_name_elements:\n",
    "        product_name = element.text\n",
    "        # Check if the product name contains 'TV'\n",
    "        product_type = 'TV' if 'TV' in product_name.upper() else 'NonTV'\n",
    "        # Append product name, category, and product type\n",
    "        product_info.append([product_name, 'Appliance', product_type])\n",
    "\n",
    "    return product_info\n",
    "\n",
    "# Extract product names, category, and type\n",
    "product_info = get_product_names_and_category()\n",
    "\n",
    "# Optional: Write the product names, category, and type to a CSV file\n",
    "with open('craigslist_Applianceproducts_with_category_and_type.csv', 'w', newline='', encoding='utf-8') as file:\n",
    "    writer = csv.writer(file)\n",
    "    writer.writerow(['Product Name', 'Category', 'Type'])  # Write header\n",
    "    writer.writerows(product_info)\n",
    "\n",
    "# Close the browser\n",
    "driver.quit()\n"
   ]
  },
  {
   "cell_type": "code",
   "execution_count": 7,
   "id": "7e8d9b27",
   "metadata": {},
   "outputs": [
    {
     "name": "stderr",
     "output_type": "stream",
     "text": [
      "C:\\Users\\PC\\AppData\\Local\\Temp\\ipykernel_13768\\1880602712.py:11: DeprecationWarning: Firefox will soon stop logging to geckodriver.log by default; Specify desired logs with log_output\n",
      "  driver = webdriver.Firefox(service=Service(GeckoDriverManager().install()), options=firefox_options)\n"
     ]
    }
   ],
   "source": [
    "from selenium import webdriver\n",
    "from selenium.webdriver.common.by import By\n",
    "import time\n",
    "import csv\n",
    "\n",
    "# Setup the WebDriver (using Firefox in this example)\n",
    "from selenium.webdriver.firefox.service import Service\n",
    "from webdriver_manager.firefox import GeckoDriverManager\n",
    "from selenium.webdriver.firefox.options import Options\n",
    "firefox_options = Options()\n",
    "driver = webdriver.Firefox(service=Service(GeckoDriverManager().install()), options=firefox_options)\n",
    "\n",
    "# Open the Craigslist furniture listing page\n",
    "url = 'https://tippecanoe.craigslist.org/search/ppa?query=tv'\n",
    "driver.get(url)\n",
    "\n",
    "def get_product_names_and_category():\n",
    "    product_info = []\n",
    "    \n",
    "    # Wait for the page to load\n",
    "    time.sleep(5)  # Adjust this value as needed to ensure the page loads completely\n",
    "    \n",
    "    # Find all product name elements on the current page\n",
    "    product_name_elements = driver.find_elements(By.XPATH, \"//a[contains(@class, 'cl-app-anchor text-only posting-title')]/span[@class='label']\")\n",
    "    \n",
    "    for element in product_name_elements:\n",
    "        product_name = element.text\n",
    "        # Check if the product name contains 'TV'\n",
    "        product_type = 'TV' if 'TV' in product_name.upper() else 'NonTV'\n",
    "        # Append product name, category, and product type\n",
    "        product_info.append([product_name, 'Appliance', product_type])\n",
    "\n",
    "    return product_info\n",
    "\n",
    "# Extract product names, category, and type\n",
    "product_info = get_product_names_and_category()\n",
    "\n",
    "# Optional: Write the product names, category, and type to a CSV file\n",
    "with open('craigslist_Appliancetvproducts_with_category_and_type.csv', 'w', newline='', encoding='utf-8') as file:\n",
    "    writer = csv.writer(file)\n",
    "    writer.writerow(['Product Name', 'Category', 'Type'])  # Write header\n",
    "    writer.writerows(product_info)\n",
    "\n",
    "# Close the browser\n",
    "driver.quit()\n"
   ]
  },
  {
   "cell_type": "code",
   "execution_count": null,
   "id": "d9abca94",
   "metadata": {},
   "outputs": [],
   "source": []
  },
  {
   "cell_type": "code",
   "execution_count": null,
   "id": "e21d0987",
   "metadata": {},
   "outputs": [],
   "source": []
  },
  {
   "cell_type": "code",
   "execution_count": 8,
   "id": "f71e37d1",
   "metadata": {},
   "outputs": [
    {
     "name": "stderr",
     "output_type": "stream",
     "text": [
      "C:\\Users\\PC\\AppData\\Local\\Temp\\ipykernel_13768\\1686367350.py:11: DeprecationWarning: Firefox will soon stop logging to geckodriver.log by default; Specify desired logs with log_output\n",
      "  driver = webdriver.Firefox(service=Service(GeckoDriverManager().install()), options=firefox_options)\n"
     ]
    }
   ],
   "source": [
    "from selenium import webdriver\n",
    "from selenium.webdriver.common.by import By\n",
    "import time\n",
    "import csv\n",
    "\n",
    "# Setup the WebDriver (using Firefox in this example)\n",
    "from selenium.webdriver.firefox.service import Service\n",
    "from webdriver_manager.firefox import GeckoDriverManager\n",
    "from selenium.webdriver.firefox.options import Options\n",
    "firefox_options = Options()\n",
    "driver = webdriver.Firefox(service=Service(GeckoDriverManager().install()), options=firefox_options)\n",
    "\n",
    "# Open the Craigslist furniture listing page\n",
    "url = 'https://tippecanoe.craigslist.org/search/ela'\n",
    "driver.get(url)\n",
    "\n",
    "def get_product_names_and_category():\n",
    "    product_info = []\n",
    "    \n",
    "    # Wait for the page to load\n",
    "    time.sleep(5)  # Adjust this value as needed to ensure the page loads completely\n",
    "    \n",
    "    # Find all product name elements on the current page\n",
    "    product_name_elements = driver.find_elements(By.XPATH, \"//a[contains(@class, 'cl-app-anchor text-only posting-title')]/span[@class='label']\")\n",
    "    \n",
    "    for element in product_name_elements:\n",
    "        product_name = element.text\n",
    "        # Check if the product name contains 'TV'\n",
    "        product_type = 'TV' if 'TV' in product_name.upper() else 'NonTV'\n",
    "        # Append product name, category, and product type\n",
    "        product_info.append([product_name, 'Electronics', product_type])\n",
    "\n",
    "    return product_info\n",
    "\n",
    "# Extract product names, category, and type\n",
    "product_info = get_product_names_and_category()\n",
    "\n",
    "# Optional: Write the product names, category, and type to a CSV file\n",
    "with open('craigslist_Electronicsproducts_with_category_and_type.csv', 'w', newline='', encoding='utf-8') as file:\n",
    "    writer = csv.writer(file)\n",
    "    writer.writerow(['Product Name', 'Category', 'Type'])  # Write header\n",
    "    writer.writerows(product_info)\n",
    "\n",
    "# Close the browser\n",
    "driver.quit()\n"
   ]
  },
  {
   "cell_type": "code",
   "execution_count": 9,
   "id": "19b35b31",
   "metadata": {},
   "outputs": [
    {
     "name": "stderr",
     "output_type": "stream",
     "text": [
      "C:\\Users\\PC\\AppData\\Local\\Temp\\ipykernel_13768\\3937602842.py:11: DeprecationWarning: Firefox will soon stop logging to geckodriver.log by default; Specify desired logs with log_output\n",
      "  driver = webdriver.Firefox(service=Service(GeckoDriverManager().install()), options=firefox_options)\n"
     ]
    }
   ],
   "source": [
    "from selenium import webdriver\n",
    "from selenium.webdriver.common.by import By\n",
    "import time\n",
    "import csv\n",
    "\n",
    "# Setup the WebDriver (using Firefox in this example)\n",
    "from selenium.webdriver.firefox.service import Service\n",
    "from webdriver_manager.firefox import GeckoDriverManager\n",
    "from selenium.webdriver.firefox.options import Options\n",
    "firefox_options = Options()\n",
    "driver = webdriver.Firefox(service=Service(GeckoDriverManager().install()), options=firefox_options)\n",
    "\n",
    "# Open the Craigslist furniture listing page\n",
    "url = 'https://tippecanoe.craigslist.org/search/ela?query=tv'\n",
    "driver.get(url)\n",
    "\n",
    "def get_product_names_and_category():\n",
    "    product_info = []\n",
    "    \n",
    "    # Wait for the page to load\n",
    "    time.sleep(5)  # Adjust this value as needed to ensure the page loads completely\n",
    "    \n",
    "    # Find all product name elements on the current page\n",
    "    product_name_elements = driver.find_elements(By.XPATH, \"//a[contains(@class, 'cl-app-anchor text-only posting-title')]/span[@class='label']\")\n",
    "    \n",
    "    for element in product_name_elements:\n",
    "        product_name = element.text\n",
    "        # Check if the product name contains 'TV'\n",
    "        product_type = 'TV' if 'TV' in product_name.upper() else 'NonTV'\n",
    "        # Append product name, category, and product type\n",
    "        product_info.append([product_name, 'Electronics', product_type])\n",
    "\n",
    "    return product_info\n",
    "\n",
    "# Extract product names, category, and type\n",
    "product_info = get_product_names_and_category()\n",
    "\n",
    "# Optional: Write the product names, category, and type to a CSV file\n",
    "with open('craigslist_Electronicstvproducts_with_category_and_type.csv', 'w', newline='', encoding='utf-8') as file:\n",
    "    writer = csv.writer(file)\n",
    "    writer.writerow(['Product Name', 'Category', 'Type'])  # Write header\n",
    "    writer.writerows(product_info)\n",
    "\n",
    "# Close the browser\n",
    "driver.quit()\n"
   ]
  }
 ],
 "metadata": {
  "kernelspec": {
   "display_name": "Python 3 (ipykernel)",
   "language": "python",
   "name": "python3"
  },
  "language_info": {
   "codemirror_mode": {
    "name": "ipython",
    "version": 3
   },
   "file_extension": ".py",
   "mimetype": "text/x-python",
   "name": "python",
   "nbconvert_exporter": "python",
   "pygments_lexer": "ipython3",
   "version": "3.11.4"
  }
 },
 "nbformat": 4,
 "nbformat_minor": 5
}
